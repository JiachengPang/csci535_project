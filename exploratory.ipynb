{
 "cells": [
  {
   "cell_type": "code",
   "execution_count": null,
   "metadata": {},
   "outputs": [],
   "source": [
    "import json\n",
    "import base64\n",
    "from datasets import load_from_disk\n",
    "from openai import AsyncOpenAI\n",
    "from dotenv import load_dotenv\n",
    "import asyncio\n",
    "import wave\n",
    "import numpy as np\n",
    "import io\n",
    "\n",
    "# Load the dataset from disk\n",
    "ds = load_from_disk(\"iemocap\")\n",
    "train_data = ds[\"train\"]\n",
    "print(train_data[0])"
   ]
  }
 ],
 "metadata": {
  "kernelspec": {
   "display_name": "usc",
   "language": "python",
   "name": "python3"
  },
  "language_info": {
   "name": "python",
   "version": "3.10.13"
  }
 },
 "nbformat": 4,
 "nbformat_minor": 2
}
