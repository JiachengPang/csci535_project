{
 "cells": [
  {
   "cell_type": "code",
   "execution_count": 8,
   "metadata": {},
   "outputs": [
    {
     "name": "stdout",
     "output_type": "stream",
     "text": [
      "10039\n"
     ]
    },
    {
     "data": {
      "application/vnd.jupyter.widget-view+json": {
       "model_id": "8a111c43d9c24b47ac69bdd71bfa145b",
       "version_major": 2,
       "version_minor": 0
      },
      "text/plain": [
       "Saving the dataset (0/3 shards):   0%|          | 0/10039 [00:00<?, ? examples/s]"
      ]
     },
     "metadata": {},
     "output_type": "display_data"
    }
   ],
   "source": [
    "from datasets import load_dataset\n",
    "\n",
    "ds = load_dataset(\"AbstractTTS/IEMOCAP\")\n",
    "\n",
    "# length of ds\n",
    "print(len(ds[\"train\"]))\n",
    "\n",
    "# save to disk\n",
    "ds.save_to_disk(\"iemocap\")\n",
    "\n",
    "# #load from disk\n",
    "# ds = load_dataset(\"iemocap\")\n",
    "\n",
    "# #length of ds\n",
    "# print(len(ds))\n",
    "\n",
    "# save to disk\n"
   ]
  },
  {
   "cell_type": "code",
   "execution_count": 2,
   "metadata": {},
   "outputs": [
    {
     "name": "stderr",
     "output_type": "stream",
     "text": [
      "Downloading data: 100%|██████████| 68/68 [09:19<00:00,  8.23s/files]\n",
      "Generating train split: 100%|██████████| 149307/149307 [04:29<00:00, 554.26 examples/s] \n",
      "Saving the dataset (55/55 shards): 100%|██████████| 149307/149307 [04:13<00:00, 589.51 examples/s]\n"
     ]
    }
   ],
   "source": [
    "ds = load_dataset(\"AbstractTTS/PODCAST\")\n",
    "ds.save_to_disk(\"podcast\")"
   ]
  }
 ],
 "metadata": {
  "kernelspec": {
   "display_name": "535ml",
   "language": "python",
   "name": "python3"
  },
  "language_info": {
   "codemirror_mode": {
    "name": "ipython",
    "version": 3
   },
   "file_extension": ".py",
   "mimetype": "text/x-python",
   "name": "python",
   "nbconvert_exporter": "python",
   "pygments_lexer": "ipython3",
   "version": "3.12.2"
  }
 },
 "nbformat": 4,
 "nbformat_minor": 2
}
