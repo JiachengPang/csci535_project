{
 "cells": [
  {
   "cell_type": "code",
   "execution_count": 8,
   "metadata": {},
   "outputs": [
    {
     "name": "stdout",
     "output_type": "stream",
     "text": [
      "10039\n"
     ]
    }
   ],
   "source": [
    "from datasets import load_dataset\n",
    "\n",
    "ds = load_dataset(\"AbstractTTS/IEMOCAP\")\n",
    "\n",
    "#length of ds\n",
    "print(len(ds['train']))\n",
    "\n",
    "# #save to disk\n",
    "# ds.save_to_disk(\"iemocap\")\n",
    "\n",
    "# #load from disk\n",
    "# ds = load_dataset(\"iemocap\")\n",
    "\n",
    "# #length of ds\n",
    "# print(len(ds))\n",
    "\n",
    "#save to disk\n"
   ]
  },
  {
   "cell_type": "code",
   "execution_count": 5,
   "metadata": {},
   "outputs": [
    {
     "name": "stderr",
     "output_type": "stream",
     "text": [
      "Downloading data: 100%|██████████| 68/68 [09:51<00:00,  8.70s/files]\n",
      "Generating train split: 100%|██████████| 149307/149307 [01:12<00:00, 2064.16 examples/s]\n",
      "Saving the dataset (55/55 shards): 100%|██████████| 149307/149307 [02:39<00:00, 937.28 examples/s] \n"
     ]
    }
   ],
   "source": [
    "ds = load_dataset(\"AbstractTTS/PODCAST\")\n",
    "ds.save_to_disk(\"podcast\")"
   ]
  }
 ],
 "metadata": {
  "kernelspec": {
   "display_name": "portfolio",
   "language": "python",
   "name": "python3"
  },
  "language_info": {
   "codemirror_mode": {
    "name": "ipython",
    "version": 3
   },
   "file_extension": ".py",
   "mimetype": "text/x-python",
   "name": "python",
   "nbconvert_exporter": "python",
   "pygments_lexer": "ipython3",
   "version": "3.10.13"
  }
 },
 "nbformat": 4,
 "nbformat_minor": 2
}
