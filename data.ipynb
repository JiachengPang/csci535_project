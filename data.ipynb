{
 "cells": [
  {
   "cell_type": "code",
   "execution_count": null,
   "metadata": {},
   "outputs": [
    {
     "name": "stderr",
     "output_type": "stream",
     "text": [
      "/home/user/miniconda3/envs/training/lib/python3.12/site-packages/tqdm/auto.py:21: TqdmWarning: IProgress not found. Please update jupyter and ipywidgets. See https://ipywidgets.readthedocs.io/en/stable/user_install.html\n",
      "  from .autonotebook import tqdm as notebook_tqdm\n",
      "Generating train split: 100%|██████████| 10039/10039 [00:03<00:00, 2984.21 examples/s]\n"
     ]
    },
    {
     "name": "stdout",
     "output_type": "stream",
     "text": [
      "10039\n"
     ]
    },
    {
     "name": "stderr",
     "output_type": "stream",
     "text": [
      "Saving the dataset (3/3 shards): 100%|██████████| 10039/10039 [00:04<00:00, 2268.65 examples/s]\n"
     ]
    }
   ],
   "source": [
    "from datasets import load_dataset\n",
    "\n",
    "ds = load_dataset(\"AbstractTTS/IEMOCAP\")\n",
    "\n",
    "# length of ds\n",
    "print(len(ds[\"train\"]))\n",
    "\n",
    "# save to disk\n",
    "ds.save_to_disk(\"iemocap\")\n",
    "\n",
    "# #load from disk\n",
    "# ds = load_dataset(\"iemocap\")\n",
    "\n",
    "# #length of ds\n",
    "# print(len(ds))\n",
    "\n",
    "# save to disk\n"
   ]
  },
  {
   "cell_type": "code",
   "execution_count": 2,
   "metadata": {},
   "outputs": [
    {
     "name": "stderr",
     "output_type": "stream",
     "text": [
      "Downloading data: 100%|██████████| 68/68 [09:19<00:00,  8.23s/files]\n",
      "Generating train split: 100%|██████████| 149307/149307 [04:29<00:00, 554.26 examples/s] \n",
      "Saving the dataset (55/55 shards): 100%|██████████| 149307/149307 [04:13<00:00, 589.51 examples/s]\n"
     ]
    }
   ],
   "source": [
    "ds = load_dataset(\"AbstractTTS/PODCAST\")\n",
    "ds.save_to_disk(\"podcast\")"
   ]
  }
 ],
 "metadata": {
  "kernelspec": {
   "display_name": "training",
   "language": "python",
   "name": "python3"
  },
  "language_info": {
   "codemirror_mode": {
    "name": "ipython",
    "version": 3
   },
   "file_extension": ".py",
   "mimetype": "text/x-python",
   "name": "python",
   "nbconvert_exporter": "python",
   "pygments_lexer": "ipython3",
   "version": "3.12.2"
  }
 },
 "nbformat": 4,
 "nbformat_minor": 2
}
