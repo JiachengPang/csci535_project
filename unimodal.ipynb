{
 "cells": [
  {
   "cell_type": "code",
   "execution_count": 14,
   "metadata": {},
   "outputs": [
    {
     "name": "stdout",
     "output_type": "stream",
     "text": [
      "CPU: aarch64\n",
      "CPU Cores: 64 Physical, 64 Logical\n",
      "RAM: 525.68 GB Total\n",
      "RAM Usage: 116.58 GB Used (28.5%)\n"
     ]
    }
   ],
   "source": [
    "import psutil\n",
    "import platform\n",
    "from pynvml import *\n",
    "\n",
    "# CPU Information\n",
    "print(f\"CPU: {platform.processor()}\")\n",
    "print(f\"CPU Cores: {psutil.cpu_count(logical=False)} Physical, {psutil.cpu_count(logical=True)} Logical\")\n",
    "\n",
    "# RAM Information\n",
    "ram = psutil.virtual_memory()\n",
    "print(f\"RAM: {ram.total / (1024**3):.2f} GB Total\")\n",
    "print(f\"RAM Usage: {ram.used / (1024**3):.2f} GB Used ({ram.percent}%)\")\n",
    "\n",
    "# Display GPU info will be in the next cell with nvidia-smi\n"
   ]
  },
  {
   "cell_type": "code",
   "execution_count": 15,
   "metadata": {},
   "outputs": [
    {
     "name": "stdout",
     "output_type": "stream",
     "text": [
      "Mon Apr 28 08:20:54 2025       \n",
      "+-----------------------------------------------------------------------------------------+\n",
      "| NVIDIA-SMI 570.124.06             Driver Version: 570.124.06     CUDA Version: 12.8     |\n",
      "|-----------------------------------------+------------------------+----------------------+\n",
      "| GPU  Name                 Persistence-M | Bus-Id          Disp.A | Volatile Uncorr. ECC |\n",
      "| Fan  Temp   Perf          Pwr:Usage/Cap |           Memory-Usage | GPU-Util  Compute M. |\n",
      "|                                         |                        |               MIG M. |\n",
      "|=========================================+========================+======================|\n",
      "|   0  NVIDIA GH200 480GB             On  |   00000000:DD:00.0 Off |                    0 |\n",
      "| N/A   36C    P0            119W /  700W |   95688MiB /  97871MiB |      0%      Default |\n",
      "|                                         |                        |             Disabled |\n",
      "+-----------------------------------------+------------------------+----------------------+\n",
      "                                                                                         \n",
      "+-----------------------------------------------------------------------------------------+\n",
      "| Processes:                                                                              |\n",
      "|  GPU   GI   CI              PID   Type   Process name                        GPU Memory |\n",
      "|        ID   ID                                                               Usage      |\n",
      "|=========================================================================================|\n",
      "|    0   N/A  N/A           13689      C   ...iniconda3/envs/535/bin/python      95680MiB |\n",
      "+-----------------------------------------------------------------------------------------+\n"
     ]
    }
   ],
   "source": [
    "!nvidia-smi"
   ]
  },
  {
   "cell_type": "code",
   "execution_count": 25,
   "metadata": {},
   "outputs": [
    {
     "name": "stdout",
     "output_type": "stream",
     "text": [
      "Successfully imported custom modules (utils, models, trainer).\n"
     ]
    }
   ],
   "source": [
    "import torch\n",
    "import torch.nn as nn\n",
    "from transformers import (\n",
    "    RobertaTokenizer,\n",
    "    Wav2Vec2FeatureExtractor,\n",
    "    AutoModel,\n",
    "    RobertaModel,\n",
    "    HubertModel\n",
    ")\n",
    "import torch.optim as optim\n",
    "import copy\n",
    "import os\n",
    "import numpy as np\n",
    "from tqdm.notebook import tqdm\n",
    "from sklearn.metrics import accuracy_score, f1_score\n",
    "# Add these imports to your first code block\n",
    "import matplotlib.pyplot as plt\n",
    "import seaborn as sns\n",
    "from sklearn.metrics import confusion_matrix, classification_report\n",
    "import pandas as pd\n",
    "import numpy as np # Ensure numpy is imported\n",
    "\n",
    "try:\n",
    "    from utils import get_iemocap_data_loaders, collate_fn_raw, MetricsLogger\n",
    "    from models import TextOnlyModel, AudioOnlyModel\n",
    "    from trainer import Trainer\n",
    "    print(\"Successfully imported custom modules (utils, models, trainer).\")\n",
    "except ImportError as e:\n",
    "    print(f\"Error importing custom modules: {e}\")\n",
    "    print(\"Please ensure utils.py, models.py, and trainer.py exist and contain the necessary definitions.\")"
   ]
  },
  {
   "cell_type": "code",
   "execution_count": 17,
   "metadata": {},
   "outputs": [
    {
     "name": "stdout",
     "output_type": "stream",
     "text": [
      "PyTorch is using GPU: NVIDIA GH200 480GB\n",
      "GPU Device Count: 1\n",
      "Current Device Index: 0\n",
      "Device Capability: (9, 0)\n",
      "GPU Memory Usage:\n",
      "  Allocated: 50.00 MB\n",
      "  Cached: 94966.00 MB\n"
     ]
    }
   ],
   "source": [
    "# Check which GPU PyTorch is using\n",
    "if torch.cuda.is_available():\n",
    "    print(f\"PyTorch is using GPU: {torch.cuda.get_device_name(0)}\")\n",
    "    print(f\"GPU Device Count: {torch.cuda.device_count()}\")\n",
    "    print(f\"Current Device Index: {torch.cuda.current_device()}\")\n",
    "    print(f\"Device Capability: {torch.cuda.get_device_capability()}\")\n",
    "    print(f\"GPU Memory Usage:\")\n",
    "    print(f\"  Allocated: {torch.cuda.memory_allocated(0) / 1024**2:.2f} MB\")\n",
    "    print(f\"  Cached: {torch.cuda.memory_reserved(0) / 1024**2:.2f} MB\")\n",
    "else:\n",
    "    print(\"PyTorch is not using GPU - CUDA is not available\")\n"
   ]
  },
  {
   "cell_type": "code",
   "execution_count": 18,
   "metadata": {},
   "outputs": [
    {
     "name": "stdout",
     "output_type": "stream",
     "text": [
      "Using device: cuda\n",
      "\n",
      "--- Configuration ---\n",
      "Device: cuda\n",
      "Number of classes: 5\n",
      "Freeze base model: True\n",
      "Batch Size: 32\n",
      "Learning Rate: 0.003\n",
      "Epochs: 20\n",
      "Patience: 5\n"
     ]
    }
   ],
   "source": [
    "import torch\n",
    "\n",
    "# --- General Configuration ---\n",
    "DEVICE = 'cuda' if torch.cuda.is_available() else 'cpu'\n",
    "print(f'Using device: {DEVICE}')\n",
    "torch.backends.cuda.matmul.allow_tf32 = False\n",
    "\n",
    "# Emotion labels\n",
    "EMOTION_LABELS = ['angry', 'frustrated', 'happy', 'sad', 'neutral']\n",
    "NUM_CLASSES = len(EMOTION_LABELS)\n",
    "\n",
    "# Model checkpoints\n",
    "AUDIO_CHECKPOINT = 'facebook/hubert-base-ls960'\n",
    "TEXT_CHECKPOINT = 'roberta-base'\n",
    "\n",
    "# Data parameters\n",
    "DATA_PATH = './iemocap'\n",
    "PRECOMPUTED_FEATURES = False\n",
    "\n",
    "# Training parameters\n",
    "BATCH_SIZE = 32\n",
    "NUM_WORKERS = 50\n",
    "LEARNING_RATE = 3e-3\n",
    "N_EPOCHS = 20\n",
    "PATIENCE = 5\n",
    "FREEZE_BASE_MODEL = True\n",
    "\n",
    "print(\"\\n--- Configuration ---\")\n",
    "print(f\"Device: {DEVICE}\")\n",
    "print(f\"Number of classes: {NUM_CLASSES}\")\n",
    "print(f\"Freeze base model: {FREEZE_BASE_MODEL}\")\n",
    "print(f\"Batch Size: {BATCH_SIZE}\")\n",
    "print(f\"Learning Rate: {LEARNING_RATE}\")\n",
    "print(f\"Epochs: {N_EPOCHS}\")\n",
    "print(f\"Patience: {PATIENCE}\")"
   ]
  },
  {
   "cell_type": "code",
   "execution_count": 19,
   "metadata": {},
   "outputs": [
    {
     "name": "stdout",
     "output_type": "stream",
     "text": [
      "\n",
      "Loading tokenizer and feature extractor...\n"
     ]
    },
    {
     "name": "stdout",
     "output_type": "stream",
     "text": [
      "Tokenizer and feature extractor loaded successfully.\n",
      "\n",
      "Loading data loaders...\n",
      "Distribution after filtering:\n",
      "neutral: 1726\n",
      "frustrated: 2917\n",
      "angry: 1269\n",
      "sad: 1250\n",
      "happy: 2632\n",
      "train, val, test sizes: 7835, 979, 980\n",
      "Data loaders created.\n",
      "Checking a sample batch from train_loader...\n",
      "Sample batch keys: dict_keys(['text_inputs', 'audio_inputs', 'labels'])\n",
      "Text input_ids shape: torch.Size([32, 54])\n",
      "Audio input_values shape: torch.Size([32, 223840])\n",
      "Labels shape: torch.Size([32])\n"
     ]
    }
   ],
   "source": [
    "import torch\n",
    "from transformers import RobertaTokenizer, Wav2Vec2FeatureExtractor\n",
    "\n",
    "# --- Load Tokenizer and Processor ---\n",
    "print(\"\\nLoading tokenizer and feature extractor...\")\n",
    "try:\n",
    "    tokenizer = RobertaTokenizer.from_pretrained(TEXT_CHECKPOINT)\n",
    "    processor = Wav2Vec2FeatureExtractor.from_pretrained(AUDIO_CHECKPOINT)\n",
    "    print(\"Tokenizer and feature extractor loaded successfully.\")\n",
    "except Exception as e:\n",
    "    print(f\"Error loading tokenizer/processor: {e}\")\n",
    "    raise RuntimeError(\"Failed to load tokenizer/processor.\") from e\n",
    "\n",
    "# --- Load Data Loaders ---\n",
    "collate_wrapper = lambda b: collate_fn_raw(b, tokenizer, processor)\n",
    "\n",
    "print(\"\\nLoading data loaders...\")\n",
    "try:\n",
    "    train_loader, val_loader, test_loader = get_iemocap_data_loaders(\n",
    "        path=DATA_PATH,\n",
    "        precomputed=PRECOMPUTED_FEATURES,\n",
    "        batch_size=BATCH_SIZE,\n",
    "        num_workers=NUM_WORKERS,\n",
    "        collate_fn=collate_wrapper,\n",
    "    )\n",
    "    print(\"Data loaders created.\")\n",
    "    # Verify data loaders\n",
    "    print(\"Checking a sample batch from train_loader...\")\n",
    "    sample_batch = next(iter(train_loader))\n",
    "    print(\"Sample batch keys:\", sample_batch.keys())\n",
    "    if 'text_inputs' in sample_batch:\n",
    "        print(\"Text input_ids shape:\", sample_batch['text_inputs'].get('input_ids', torch.empty(0)).shape)\n",
    "    if 'audio_inputs' in sample_batch:\n",
    "        print(\"Audio input_values shape:\", sample_batch['audio_inputs'].get('input_values', torch.empty(0)).shape)\n",
    "    if 'labels' in sample_batch:\n",
    "        print(\"Labels shape:\", sample_batch['labels'].shape)\n",
    "\n",
    "    # Store loaders for the function\n",
    "    data_loaders = {\n",
    "        'train': train_loader,\n",
    "        'val': val_loader,\n",
    "        'test': test_loader\n",
    "    }\n",
    "\n",
    "except NameError:\n",
    "     print(\"Error: `get_iemocap_data_loaders` or `collate_fn_raw` not found. Check imports.\")\n",
    "     raise RuntimeError(\"Data loading functions not found.\")\n",
    "except Exception as e:\n",
    "    print(f\"Error creating data loaders: {e}\")\n",
    "    raise RuntimeError(\"Failed to create data loaders.\") from e"
   ]
  },
  {
   "cell_type": "code",
   "execution_count": 20,
   "metadata": {},
   "outputs": [
    {
     "name": "stdout",
     "output_type": "stream",
     "text": [
      "Training and evaluation function defined.\n"
     ]
    }
   ],
   "source": [
    "import torch\n",
    "import torch.optim as optim\n",
    "from transformers import AutoModel\n",
    "import copy\n",
    "import os\n",
    "import traceback\n",
    "\n",
    "def run_unimodal_training(model_type, device, config, data_loaders):\n",
    "    \"\"\"\n",
    "    Encapsulates the training and evaluation process for a unimodal model.\n",
    "\n",
    "    Args:\n",
    "        model_type (str): 'text' or 'audio'.\n",
    "        device (str): 'cuda' or 'cpu'.\n",
    "        config (dict): Dictionary containing configuration parameters like\n",
    "                       checkpoints, paths, training settings.\n",
    "        data_loaders (dict): Dictionary containing 'train', 'val', 'test' DataLoaders.\n",
    "    \"\"\"\n",
    "    print(f\"\\n{'='*20} Starting Training for {model_type.upper()} Model {'='*20}\")\n",
    "\n",
    "    # --- Configuration Specific to this Run ---\n",
    "    if model_type == 'text':\n",
    "        base_checkpoint = config['text_checkpoint']\n",
    "        model_save_path = config['text_model_save_path']\n",
    "        metrics_save_path = config['text_metrics_save_path']\n",
    "        ModelClass = TextOnlyModel\n",
    "    elif model_type == 'audio':\n",
    "        base_checkpoint = config['audio_checkpoint']\n",
    "        model_save_path = config['audio_model_save_path']\n",
    "        metrics_save_path = config['audio_metrics_save_path']\n",
    "        ModelClass = AudioOnlyModel\n",
    "    else:\n",
    "        raise ValueError(\"model_type must be 'text' or 'audio'\")\n",
    "\n",
    "    num_classes = config['num_classes']\n",
    "    freeze_base = config['freeze_base_model']\n",
    "    lr = config['learning_rate']\n",
    "    n_epochs = config['n_epochs']\n",
    "    patience = config['patience']\n",
    "\n",
    "    # --- Instantiate Logger ---\n",
    "    try:\n",
    "        logger = MetricsLogger(save_path=metrics_save_path)\n",
    "    except NameError:\n",
    "        print(\"Error: MetricsLogger class not found. Check imports from utils.py.\")\n",
    "        return # Stop this run if logger is missing\n",
    "\n",
    "    # --- Load Base Model ---\n",
    "    print(f\"Loading base pre-trained model: {base_checkpoint}...\")\n",
    "    try:\n",
    "        base_model = AutoModel.from_pretrained(base_checkpoint)\n",
    "    except Exception as e:\n",
    "        print(f\"Error loading base model {base_checkpoint}: {e}\")\n",
    "        return # Stop this run\n",
    "\n",
    "    # --- Freeze Base Model Parameters ---\n",
    "    if freeze_base:\n",
    "        print(\"Freezing base model parameters.\")\n",
    "        for param in base_model.parameters():\n",
    "            param.requires_grad = False\n",
    "    else:\n",
    "        print(\"Base model parameters will be fine-tuned.\")\n",
    "\n",
    "    # --- Instantiate Full Model ---\n",
    "    print(f\"Instantiating {model_type.capitalize()}OnlyModel...\")\n",
    "    hidden_size = base_model.config.hidden_size\n",
    "    try:\n",
    "        # Instantiate the specific model class\n",
    "        if model_type == 'text':\n",
    "             # Pass the actual loaded base_model instance\n",
    "            model = ModelClass(roberta=base_model, num_classes=num_classes, hidden_size=hidden_size)\n",
    "        elif model_type == 'audio':\n",
    "             # Pass the actual loaded base_model instance\n",
    "            model = ModelClass(hubert=base_model, num_classes=num_classes, hidden_size=hidden_size)\n",
    "        print(f\"{model_type.capitalize()}OnlyModel instantiated successfully.\")\n",
    "    except NameError:\n",
    "         print(f\"Error: {ModelClass.__name__} class not found. Check imports from models.py.\")\n",
    "         return # Stop this run if model class is missing\n",
    "    except Exception as e:\n",
    "        print(f\"Error instantiating {ModelClass.__name__}: {e}\")\n",
    "        traceback.print_exc()\n",
    "        return # Stop this run\n",
    "\n",
    "    # --- Move Model to Device ---\n",
    "    try:\n",
    "        model.to(device)\n",
    "    except Exception as e:\n",
    "        print(f\"Error moving model to device {device}: {e}\")\n",
    "        return # Stop this run\n",
    "\n",
    "    # --- Set Up Optimizer ---\n",
    "    params_to_optimize = filter(lambda p: p.requires_grad, model.parameters())\n",
    "    optimizer = optim.AdamW(params_to_optimize, lr=lr)\n",
    "    print(f\"Optimizer: AdamW with LR={lr}\")\n",
    "    num_trainable_params = sum(p.numel() for p in model.parameters() if p.requires_grad)\n",
    "    print(f\"Number of trainable parameters: {num_trainable_params}\")\n",
    "\n",
    "    # --- Instantiate Trainer ---\n",
    "    try:\n",
    "        trainer = Trainer(model, optimizer, device=device)\n",
    "    except NameError:\n",
    "        print(\"Error: Trainer class not found. Check imports from trainer.py.\")\n",
    "        return # Stop this run\n",
    "\n",
    "    # --- Training Loop ---\n",
    "    best_val_loss = float('inf')\n",
    "    best_model_state = None\n",
    "    early_stopping_counter = 0\n",
    "\n",
    "    print(f\"\\nStarting training for {n_epochs} epochs...\")\n",
    "    for epoch in range(1, n_epochs + 1):\n",
    "        try:\n",
    "            # Train\n",
    "            train_loss, train_acc, train_f1 = trainer.train_one_epoch(data_loaders['train'], epoch)\n",
    "            # Validate\n",
    "            val_loss, val_acc, val_f1 = trainer.evaluate(data_loaders['val'], desc=\"Validate\")\n",
    "\n",
    "            print(f'\\nEpoch {epoch}/{n_epochs}')\n",
    "            print(f'  [Train] Loss: {train_loss:.4f} | Acc: {train_acc:.4f} | F1: {train_f1:.4f}')\n",
    "            print(f'  [Val]   Loss: {val_loss:.4f} | Acc: {val_acc:.4f} | F1: {val_f1:.4f}')\n",
    "\n",
    "            # Log metrics\n",
    "            logger.log_train(train_loss, train_acc, train_f1)\n",
    "            logger.log_val(val_loss, val_acc, val_f1)\n",
    "            logger.save()\n",
    "\n",
    "            # Check for improvement and save best model\n",
    "            if val_loss < best_val_loss:\n",
    "                best_val_loss = val_loss\n",
    "                best_model_state = copy.deepcopy(trainer.model.state_dict())\n",
    "                early_stopping_counter = 0\n",
    "                print(f'  -> Validation loss improved to {best_val_loss:.4f}. Saving model state.')\n",
    "                try:\n",
    "                     torch.save({\n",
    "                        'epoch': epoch,\n",
    "                        'model_state_dict': best_model_state,\n",
    "                        'optimizer_state_dict': optimizer.state_dict(),\n",
    "                        'val_loss': best_val_loss,\n",
    "                        'config': {\n",
    "                             'model_type': model_type,\n",
    "                             'num_classes': num_classes,\n",
    "                             'hidden_size': hidden_size,\n",
    "                             'base_checkpoint': base_checkpoint\n",
    "                        }\n",
    "                    }, model_save_path)\n",
    "                     print(f\"  -> Best model checkpoint saved to '{model_save_path}'\")\n",
    "                except Exception as e_save:\n",
    "                    print(f\"  -> Error saving model checkpoint: {e_save}\")\n",
    "            else:\n",
    "                early_stopping_counter += 1\n",
    "                print(f'  -> Validation loss did not improve. Counter: {early_stopping_counter}/{patience}')\n",
    "\n",
    "            # Early stopping\n",
    "            if early_stopping_counter >= patience:\n",
    "                print(f'\\nEarly stopping triggered after {epoch} epochs.')\n",
    "                break\n",
    "        except Exception as e_epoch:\n",
    "            print(f\"\\nError during epoch {epoch}: {e_epoch}\")\n",
    "            traceback.print_exc()\n",
    "            print(\"Stopping training for this model type due to error.\")\n",
    "            return # Stop this run\n",
    "\n",
    "    print(\"\\nTraining finished.\")\n",
    "\n",
    "    # --- Final Evaluation on Test Set ---\n",
    "    print(f\"\\n--- Evaluating Best {model_type.upper()} Model on Test Set ---\")\n",
    "    if best_model_state is None:\n",
    "         print(\"Warning: No best model state was saved (validation loss might not have improved). Evaluating last model state.\")\n",
    "         # Ensure the model used by the trainer is used for evaluation\n",
    "         eval_model = trainer.model # Use the model instance from the trainer\n",
    "         eval_model.eval() # Set to eval mode\n",
    "    elif not os.path.exists(model_save_path):\n",
    "        print(f\"Warning: Best model checkpoint '{model_save_path}' not found, but best state exists in memory. Evaluating model from memory.\")\n",
    "        # Need to load the state into the current model instance\n",
    "        try:\n",
    "            model.load_state_dict(best_model_state)\n",
    "            eval_model = model\n",
    "            eval_model.eval()\n",
    "        except Exception as e_load_mem:\n",
    "             print(f\"Error loading best model state from memory: {e_load_mem}. Cannot evaluate.\")\n",
    "             return\n",
    "    else:\n",
    "        print(f\"Loading best model state from '{model_save_path}'...\")\n",
    "        try:\n",
    "            checkpoint = torch.load(model_save_path, map_location=device)\n",
    "            # Re-initialize architecture - important if script restarted or for consistency\n",
    "            print(\"Re-initializing model architecture for evaluation...\")\n",
    "            eval_config = checkpoint.get('config', {})\n",
    "            eval_num_classes = eval_config.get('num_classes', num_classes)\n",
    "            eval_base_checkpoint = eval_config.get('base_checkpoint', base_checkpoint)\n",
    "            eval_base_model = AutoModel.from_pretrained(eval_base_checkpoint)\n",
    "            eval_hidden_size = eval_config.get('hidden_size', eval_base_model.config.hidden_size)\n",
    "\n",
    "            if model_type == 'text':\n",
    "                 eval_model = TextOnlyModel(roberta=eval_base_model, num_classes=eval_num_classes, hidden_size=eval_hidden_size)\n",
    "            elif model_type == 'audio':\n",
    "                 eval_model = AudioOnlyModel(hubert=eval_base_model, num_classes=eval_num_classes, hidden_size=eval_hidden_size)\n",
    "\n",
    "            eval_model.load_state_dict(checkpoint['model_state_dict'])\n",
    "            eval_model.to(device)\n",
    "            eval_model.eval()\n",
    "            print(\"Best model loaded successfully from file.\")\n",
    "\n",
    "        except FileNotFoundError:\n",
    "            print(f\"Error: Checkpoint file not found at {model_save_path}. Cannot evaluate.\")\n",
    "            return\n",
    "        except Exception as e_load:\n",
    "            print(f\"An error occurred loading the best model: {e_load}\")\n",
    "            traceback.print_exc()\n",
    "            return\n",
    "\n",
    "    # Use the existing Trainer instance structure for evaluation, but with the loaded/best model\n",
    "    # Create a dummy optimizer as Trainer expects one, but it won't be used for eval\n",
    "    eval_optimizer = optim.AdamW(eval_model.parameters(), lr=1e-5)\n",
    "    eval_trainer = Trainer(eval_model, eval_optimizer, device=device)\n",
    "\n",
    "    print(\"\\nRunning evaluation on the test set...\")\n",
    "    try:\n",
    "        test_loss, test_acc, test_f1 = eval_trainer.evaluate(data_loaders['test'], desc=\"Test\")\n",
    "\n",
    "        print(\"\\n--- Test Set Results ---\")\n",
    "        print(f\"  Loss: {test_loss:.4f}\")\n",
    "        print(f\"  Accuracy: {test_acc:.4f}\")\n",
    "        print(f\"  Weighted F1-Score: {test_f1:.4f}\")\n",
    "\n",
    "        # Log test results\n",
    "        logger.log_test(test_loss, test_acc, test_f1)\n",
    "        logger.save()\n",
    "        print(f\"Test metrics logged and saved to {logger.save_path}\")\n",
    "\n",
    "    except Exception as e_eval:\n",
    "        print(f\"An error occurred during final evaluation: {e_eval}\")\n",
    "        traceback.print_exc()\n",
    "\n",
    "    print(f\"\\n{'='*20} Finished Run for {model_type.upper()} Model {'='*20}\")\n",
    "\n",
    "\n",
    "print(\"Training and evaluation function defined.\")"
   ]
  },
  {
   "cell_type": "code",
   "execution_count": 22,
   "metadata": {},
   "outputs": [
    {
     "name": "stderr",
     "output_type": "stream",
     "text": [
      "Some weights of RobertaModel were not initialized from the model checkpoint at roberta-base and are newly initialized: ['pooler.dense.bias', 'pooler.dense.weight']\n",
      "You should probably TRAIN this model on a down-stream task to be able to use it for predictions and inference.\n"
     ]
    },
    {
     "name": "stdout",
     "output_type": "stream",
     "text": [
      "\n",
      "==================== Starting Training for TEXT Model ====================\n",
      "Loading base pre-trained model: roberta-base...\n",
      "Freezing base model parameters.\n",
      "Instantiating TextOnlyModel...\n",
      "TextOnlyModel initialized (compatible version) with hidden_size=768, num_classes=5\n",
      "TextOnlyModel instantiated successfully.\n",
      "Optimizer: AdamW with LR=0.003\n",
      "Number of trainable parameters: 1185029\n",
      "\n",
      "Starting training for 20 epochs...\n"
     ]
    },
    {
     "name": "stderr",
     "output_type": "stream",
     "text": [
      "Epoch 1 [Train]: 100%|██████████| 245/245 [00:05<00:00, 43.78it/s, loss=1.55]\n",
      "Validate: 100%|██████████| 31/31 [00:01<00:00, 16.59it/s]\n"
     ]
    },
    {
     "name": "stdout",
     "output_type": "stream",
     "text": [
      "\n",
      "Epoch 1/20\n",
      "  [Train] Loss: 1.5646 | Acc: 0.2930 | F1: 0.2089\n",
      "  [Val]   Loss: 1.5470 | Acc: 0.2758 | F1: 0.1192\n",
      "  -> Validation loss improved to 1.5470. Saving model state.\n",
      "  -> Best model checkpoint saved to 'best_text_only_model.pth'\n"
     ]
    },
    {
     "name": "stderr",
     "output_type": "stream",
     "text": [
      "Epoch 2 [Train]: 100%|██████████| 245/245 [00:05<00:00, 45.49it/s, loss=1.49]\n",
      "Validate: 100%|██████████| 31/31 [00:01<00:00, 16.99it/s]\n"
     ]
    },
    {
     "name": "stdout",
     "output_type": "stream",
     "text": [
      "\n",
      "Epoch 2/20\n",
      "  [Train] Loss: 1.5334 | Acc: 0.3193 | F1: 0.2438\n",
      "  [Val]   Loss: 1.4759 | Acc: 0.3626 | F1: 0.2602\n",
      "  -> Validation loss improved to 1.4759. Saving model state.\n",
      "  -> Best model checkpoint saved to 'best_text_only_model.pth'\n"
     ]
    },
    {
     "name": "stderr",
     "output_type": "stream",
     "text": [
      "Epoch 3 [Train]: 100%|██████████| 245/245 [00:05<00:00, 45.54it/s, loss=1.34]\n",
      "Validate: 100%|██████████| 31/31 [00:01<00:00, 16.87it/s]\n"
     ]
    },
    {
     "name": "stdout",
     "output_type": "stream",
     "text": [
      "\n",
      "Epoch 3/20\n",
      "  [Train] Loss: 1.4860 | Acc: 0.3567 | F1: 0.2888\n",
      "  [Val]   Loss: 1.4453 | Acc: 0.3575 | F1: 0.2832\n",
      "  -> Validation loss improved to 1.4453. Saving model state.\n",
      "  -> Best model checkpoint saved to 'best_text_only_model.pth'\n"
     ]
    },
    {
     "name": "stderr",
     "output_type": "stream",
     "text": [
      "Epoch 4 [Train]: 100%|██████████| 245/245 [00:05<00:00, 45.70it/s, loss=1.39]\n",
      "Validate: 100%|██████████| 31/31 [00:01<00:00, 17.15it/s]\n"
     ]
    },
    {
     "name": "stdout",
     "output_type": "stream",
     "text": [
      "\n",
      "Epoch 4/20\n",
      "  [Train] Loss: 1.4657 | Acc: 0.3657 | F1: 0.3068\n",
      "  [Val]   Loss: 1.4204 | Acc: 0.4025 | F1: 0.3316\n",
      "  -> Validation loss improved to 1.4204. Saving model state.\n",
      "  -> Best model checkpoint saved to 'best_text_only_model.pth'\n"
     ]
    },
    {
     "name": "stderr",
     "output_type": "stream",
     "text": [
      "Epoch 5 [Train]: 100%|██████████| 245/245 [00:05<00:00, 45.51it/s, loss=1.39]\n",
      "Validate: 100%|██████████| 31/31 [00:01<00:00, 16.83it/s]\n"
     ]
    },
    {
     "name": "stdout",
     "output_type": "stream",
     "text": [
      "\n",
      "Epoch 5/20\n",
      "  [Train] Loss: 1.4588 | Acc: 0.3680 | F1: 0.3054\n",
      "  [Val]   Loss: 1.4422 | Acc: 0.4096 | F1: 0.3398\n",
      "  -> Validation loss did not improve. Counter: 1/5\n"
     ]
    },
    {
     "name": "stderr",
     "output_type": "stream",
     "text": [
      "Epoch 6 [Train]: 100%|██████████| 245/245 [00:05<00:00, 45.63it/s, loss=1.39]\n",
      "Validate: 100%|██████████| 31/31 [00:01<00:00, 17.03it/s]\n"
     ]
    },
    {
     "name": "stdout",
     "output_type": "stream",
     "text": [
      "\n",
      "Epoch 6/20\n",
      "  [Train] Loss: 1.4502 | Acc: 0.3757 | F1: 0.3149\n",
      "  [Val]   Loss: 1.3727 | Acc: 0.4127 | F1: 0.3649\n",
      "  -> Validation loss improved to 1.3727. Saving model state.\n",
      "  -> Best model checkpoint saved to 'best_text_only_model.pth'\n"
     ]
    },
    {
     "name": "stderr",
     "output_type": "stream",
     "text": [
      "Epoch 7 [Train]: 100%|██████████| 245/245 [00:05<00:00, 45.36it/s, loss=1.4] \n",
      "Validate: 100%|██████████| 31/31 [00:01<00:00, 16.99it/s]\n"
     ]
    },
    {
     "name": "stdout",
     "output_type": "stream",
     "text": [
      "\n",
      "Epoch 7/20\n",
      "  [Train] Loss: 1.4360 | Acc: 0.3752 | F1: 0.3267\n",
      "  [Val]   Loss: 1.3793 | Acc: 0.4004 | F1: 0.3244\n",
      "  -> Validation loss did not improve. Counter: 1/5\n"
     ]
    },
    {
     "name": "stderr",
     "output_type": "stream",
     "text": [
      "Epoch 8 [Train]: 100%|██████████| 245/245 [00:05<00:00, 45.50it/s, loss=1.43]\n",
      "Validate: 100%|██████████| 31/31 [00:01<00:00, 17.03it/s]\n"
     ]
    },
    {
     "name": "stdout",
     "output_type": "stream",
     "text": [
      "\n",
      "Epoch 8/20\n",
      "  [Train] Loss: 1.4368 | Acc: 0.3768 | F1: 0.3211\n",
      "  [Val]   Loss: 1.3925 | Acc: 0.4321 | F1: 0.3330\n",
      "  -> Validation loss did not improve. Counter: 2/5\n"
     ]
    },
    {
     "name": "stderr",
     "output_type": "stream",
     "text": [
      "Epoch 9 [Train]: 100%|██████████| 245/245 [00:05<00:00, 45.67it/s, loss=1.43]\n",
      "Validate: 100%|██████████| 31/31 [00:01<00:00, 16.99it/s]\n"
     ]
    },
    {
     "name": "stdout",
     "output_type": "stream",
     "text": [
      "\n",
      "Epoch 9/20\n",
      "  [Train] Loss: 1.4266 | Acc: 0.3779 | F1: 0.3246\n",
      "  [Val]   Loss: 1.3333 | Acc: 0.4372 | F1: 0.3471\n",
      "  -> Validation loss improved to 1.3333. Saving model state.\n",
      "  -> Best model checkpoint saved to 'best_text_only_model.pth'\n"
     ]
    },
    {
     "name": "stderr",
     "output_type": "stream",
     "text": [
      "Epoch 10 [Train]: 100%|██████████| 245/245 [00:05<00:00, 45.39it/s, loss=1.6] \n",
      "Validate: 100%|██████████| 31/31 [00:01<00:00, 17.02it/s]\n"
     ]
    },
    {
     "name": "stdout",
     "output_type": "stream",
     "text": [
      "\n",
      "Epoch 10/20\n",
      "  [Train] Loss: 1.4298 | Acc: 0.3838 | F1: 0.3384\n",
      "  [Val]   Loss: 1.3576 | Acc: 0.4362 | F1: 0.3590\n",
      "  -> Validation loss did not improve. Counter: 1/5\n"
     ]
    },
    {
     "name": "stderr",
     "output_type": "stream",
     "text": [
      "Epoch 11 [Train]: 100%|██████████| 245/245 [00:05<00:00, 45.90it/s, loss=1.33]\n",
      "Validate: 100%|██████████| 31/31 [00:01<00:00, 19.92it/s]\n"
     ]
    },
    {
     "name": "stdout",
     "output_type": "stream",
     "text": [
      "\n",
      "Epoch 11/20\n",
      "  [Train] Loss: 1.4283 | Acc: 0.3825 | F1: 0.3316\n",
      "  [Val]   Loss: 1.3319 | Acc: 0.4372 | F1: 0.3815\n",
      "  -> Validation loss improved to 1.3319. Saving model state.\n",
      "  -> Best model checkpoint saved to 'best_text_only_model.pth'\n"
     ]
    },
    {
     "name": "stderr",
     "output_type": "stream",
     "text": [
      "Epoch 12 [Train]: 100%|██████████| 245/245 [00:05<00:00, 48.44it/s, loss=1.43]\n",
      "Validate: 100%|██████████| 31/31 [00:01<00:00, 19.91it/s]\n"
     ]
    },
    {
     "name": "stdout",
     "output_type": "stream",
     "text": [
      "\n",
      "Epoch 12/20\n",
      "  [Train] Loss: 1.4266 | Acc: 0.3851 | F1: 0.3348\n",
      "  [Val]   Loss: 1.3124 | Acc: 0.4464 | F1: 0.3771\n",
      "  -> Validation loss improved to 1.3124. Saving model state.\n",
      "  -> Best model checkpoint saved to 'best_text_only_model.pth'\n"
     ]
    },
    {
     "name": "stderr",
     "output_type": "stream",
     "text": [
      "Epoch 13 [Train]: 100%|██████████| 245/245 [00:05<00:00, 47.89it/s, loss=1.54]\n",
      "Validate: 100%|██████████| 31/31 [00:01<00:00, 19.65it/s]\n"
     ]
    },
    {
     "name": "stdout",
     "output_type": "stream",
     "text": [
      "\n",
      "Epoch 13/20\n",
      "  [Train] Loss: 1.4309 | Acc: 0.3820 | F1: 0.3341\n",
      "  [Val]   Loss: 1.3527 | Acc: 0.4096 | F1: 0.3244\n",
      "  -> Validation loss did not improve. Counter: 1/5\n"
     ]
    },
    {
     "name": "stderr",
     "output_type": "stream",
     "text": [
      "Epoch 14 [Train]: 100%|██████████| 245/245 [00:05<00:00, 48.23it/s, loss=1.44]\n",
      "Validate: 100%|██████████| 31/31 [00:01<00:00, 19.80it/s]\n"
     ]
    },
    {
     "name": "stdout",
     "output_type": "stream",
     "text": [
      "\n",
      "Epoch 14/20\n",
      "  [Train] Loss: 1.4210 | Acc: 0.3792 | F1: 0.3324\n",
      "  [Val]   Loss: 1.3251 | Acc: 0.4249 | F1: 0.3538\n",
      "  -> Validation loss did not improve. Counter: 2/5\n"
     ]
    },
    {
     "name": "stderr",
     "output_type": "stream",
     "text": [
      "Epoch 15 [Train]: 100%|██████████| 245/245 [00:05<00:00, 48.43it/s, loss=1.41]\n",
      "Validate: 100%|██████████| 31/31 [00:01<00:00, 19.60it/s]\n"
     ]
    },
    {
     "name": "stdout",
     "output_type": "stream",
     "text": [
      "\n",
      "Epoch 15/20\n",
      "  [Train] Loss: 1.4135 | Acc: 0.3805 | F1: 0.3407\n",
      "  [Val]   Loss: 1.3309 | Acc: 0.4464 | F1: 0.4087\n",
      "  -> Validation loss did not improve. Counter: 3/5\n"
     ]
    },
    {
     "name": "stderr",
     "output_type": "stream",
     "text": [
      "Epoch 16 [Train]: 100%|██████████| 245/245 [00:04<00:00, 49.03it/s, loss=1.2] \n",
      "Validate: 100%|██████████| 31/31 [00:01<00:00, 19.80it/s]\n"
     ]
    },
    {
     "name": "stdout",
     "output_type": "stream",
     "text": [
      "\n",
      "Epoch 16/20\n",
      "  [Train] Loss: 1.4146 | Acc: 0.3895 | F1: 0.3481\n",
      "  [Val]   Loss: 1.3021 | Acc: 0.4494 | F1: 0.4215\n",
      "  -> Validation loss improved to 1.3021. Saving model state.\n",
      "  -> Best model checkpoint saved to 'best_text_only_model.pth'\n"
     ]
    },
    {
     "name": "stderr",
     "output_type": "stream",
     "text": [
      "Epoch 17 [Train]: 100%|██████████| 245/245 [00:05<00:00, 47.92it/s, loss=1.63]\n",
      "Validate: 100%|██████████| 31/31 [00:01<00:00, 19.93it/s]\n"
     ]
    },
    {
     "name": "stdout",
     "output_type": "stream",
     "text": [
      "\n",
      "Epoch 17/20\n",
      "  [Train] Loss: 1.4138 | Acc: 0.3852 | F1: 0.3491\n",
      "  [Val]   Loss: 1.3717 | Acc: 0.4259 | F1: 0.3956\n",
      "  -> Validation loss did not improve. Counter: 1/5\n"
     ]
    },
    {
     "name": "stderr",
     "output_type": "stream",
     "text": [
      "Epoch 18 [Train]: 100%|██████████| 245/245 [00:05<00:00, 48.36it/s, loss=1.39]\n",
      "Validate: 100%|██████████| 31/31 [00:01<00:00, 19.79it/s]\n"
     ]
    },
    {
     "name": "stdout",
     "output_type": "stream",
     "text": [
      "\n",
      "Epoch 18/20\n",
      "  [Train] Loss: 1.4088 | Acc: 0.3872 | F1: 0.3467\n",
      "  [Val]   Loss: 1.3068 | Acc: 0.4576 | F1: 0.4205\n",
      "  -> Validation loss did not improve. Counter: 2/5\n"
     ]
    },
    {
     "name": "stderr",
     "output_type": "stream",
     "text": [
      "Epoch 19 [Train]: 100%|██████████| 245/245 [00:05<00:00, 48.51it/s, loss=1.55]\n",
      "Validate: 100%|██████████| 31/31 [00:01<00:00, 19.81it/s]\n"
     ]
    },
    {
     "name": "stdout",
     "output_type": "stream",
     "text": [
      "\n",
      "Epoch 19/20\n",
      "  [Train] Loss: 1.4117 | Acc: 0.3881 | F1: 0.3550\n",
      "  [Val]   Loss: 1.3215 | Acc: 0.4402 | F1: 0.3922\n",
      "  -> Validation loss did not improve. Counter: 3/5\n"
     ]
    },
    {
     "name": "stderr",
     "output_type": "stream",
     "text": [
      "Epoch 20 [Train]: 100%|██████████| 245/245 [00:05<00:00, 48.48it/s, loss=1.49]\n",
      "Validate: 100%|██████████| 31/31 [00:01<00:00, 19.89it/s]\n"
     ]
    },
    {
     "name": "stdout",
     "output_type": "stream",
     "text": [
      "\n",
      "Epoch 20/20\n",
      "  [Train] Loss: 1.3954 | Acc: 0.4003 | F1: 0.3726\n",
      "  [Val]   Loss: 1.2973 | Acc: 0.4688 | F1: 0.4110\n",
      "  -> Validation loss improved to 1.2973. Saving model state.\n",
      "  -> Best model checkpoint saved to 'best_text_only_model.pth'\n",
      "\n",
      "Training finished.\n",
      "\n",
      "--- Evaluating Best TEXT Model on Test Set ---\n",
      "Loading best model state from 'best_text_only_model.pth'...\n"
     ]
    },
    {
     "name": "stderr",
     "output_type": "stream",
     "text": [
      "Some weights of RobertaModel were not initialized from the model checkpoint at roberta-base and are newly initialized: ['pooler.dense.bias', 'pooler.dense.weight']\n",
      "You should probably TRAIN this model on a down-stream task to be able to use it for predictions and inference.\n"
     ]
    },
    {
     "name": "stdout",
     "output_type": "stream",
     "text": [
      "Re-initializing model architecture for evaluation...\n",
      "TextOnlyModel initialized (compatible version) with hidden_size=768, num_classes=5\n",
      "Best model loaded successfully from file.\n",
      "\n",
      "Running evaluation on the test set...\n"
     ]
    },
    {
     "name": "stderr",
     "output_type": "stream",
     "text": [
      "Test: 100%|██████████| 31/31 [00:01<00:00, 20.26it/s]"
     ]
    },
    {
     "name": "stdout",
     "output_type": "stream",
     "text": [
      "\n",
      "--- Test Set Results ---\n",
      "  Loss: 1.3139\n",
      "  Accuracy: 0.4510\n",
      "  Weighted F1-Score: 0.3983\n",
      "Test metrics logged and saved to text_only_training_metrics.json\n",
      "\n",
      "==================== Finished Run for TEXT Model ====================\n"
     ]
    },
    {
     "name": "stderr",
     "output_type": "stream",
     "text": [
      "\n"
     ]
    }
   ],
   "source": [
    "# --- Define Configuration for the Run ---\n",
    "# Using variables defined in Block 2\n",
    "run_config_text = {\n",
    "    'text_checkpoint': TEXT_CHECKPOINT,\n",
    "    'audio_checkpoint': AUDIO_CHECKPOINT, # Keep both for potential future use in config\n",
    "    'text_model_save_path': 'best_text_only_model.pth',\n",
    "    'text_metrics_save_path': 'text_only_training_metrics.json',\n",
    "    'audio_model_save_path': 'best_audio_only_model.pth', # Keep both for consistency\n",
    "    'audio_metrics_save_path': 'audio_only_training_metrics.json',\n",
    "    'num_classes': NUM_CLASSES,\n",
    "    'freeze_base_model': FREEZE_BASE_MODEL,\n",
    "    'learning_rate': LEARNING_RATE,\n",
    "    'n_epochs': N_EPOCHS,\n",
    "    'patience': PATIENCE,\n",
    "}\n",
    "\n",
    "# --- Run Training for Text Model ---\n",
    "try:\n",
    "    # Pass necessary variables: model type, device, config dict, data loaders dict\n",
    "    run_unimodal_training(\n",
    "        model_type='text',\n",
    "        device=DEVICE,\n",
    "        config=run_config_text,\n",
    "        data_loaders=data_loaders # data_loaders defined in Block 3\n",
    "    )\n",
    "except NameError as e:\n",
    "    print(f\"Error calling training function for TEXT model: Required variable not defined ({e}). Check previous blocks.\")\n",
    "except Exception as e:\n",
    "    print(f\"An unexpected error occurred during TEXT model training execution: {e}\")\n",
    "    traceback.print_exc()"
   ]
  },
  {
   "cell_type": "code",
   "execution_count": 21,
   "metadata": {},
   "outputs": [
    {
     "name": "stdout",
     "output_type": "stream",
     "text": [
      "Memory cleared from previous model training.\n",
      "\n",
      "==================== Starting Training for AUDIO Model ====================\n",
      "Loading base pre-trained model: facebook/hubert-base-ls960...\n",
      "Freezing base model parameters.\n",
      "Instantiating AudioOnlyModel...\n",
      "AudioOnlyModel initialized (compatible version) with hidden_size=768, num_classes=5\n",
      "AudioOnlyModel instantiated successfully.\n",
      "Optimizer: AdamW with LR=0.003\n",
      "Number of trainable parameters: 1185029\n",
      "\n",
      "Starting training for 20 epochs...\n"
     ]
    },
    {
     "name": "stderr",
     "output_type": "stream",
     "text": [
      "Epoch 1 [Train]: 100%|██████████| 245/245 [01:24<00:00,  2.91it/s, loss=1.34]\n",
      "Validate: 100%|██████████| 31/31 [00:05<00:00,  5.68it/s]\n"
     ]
    },
    {
     "name": "stdout",
     "output_type": "stream",
     "text": [
      "\n",
      "Epoch 1/20\n",
      "  [Train] Loss: 1.4916 | Acc: 0.3124 | F1: 0.2841\n",
      "  [Val]   Loss: 1.5568 | Acc: 0.2707 | F1: 0.2423\n",
      "  -> Validation loss improved to 1.5568. Saving model state.\n",
      "  -> Best model checkpoint saved to 'best_audio_only_model.pth'\n"
     ]
    },
    {
     "name": "stderr",
     "output_type": "stream",
     "text": [
      "Epoch 2 [Train]: 100%|██████████| 245/245 [01:17<00:00,  3.17it/s, loss=1.34]\n",
      "Validate: 100%|██████████| 31/31 [00:05<00:00,  5.44it/s]\n"
     ]
    },
    {
     "name": "stdout",
     "output_type": "stream",
     "text": [
      "\n",
      "Epoch 2/20\n",
      "  [Train] Loss: 1.4415 | Acc: 0.3330 | F1: 0.3131\n",
      "  [Val]   Loss: 1.3991 | Acc: 0.3800 | F1: 0.3491\n",
      "  -> Validation loss improved to 1.3991. Saving model state.\n",
      "  -> Best model checkpoint saved to 'best_audio_only_model.pth'\n"
     ]
    },
    {
     "name": "stderr",
     "output_type": "stream",
     "text": [
      "Epoch 3 [Train]: 100%|██████████| 245/245 [01:18<00:00,  3.12it/s, loss=1.24]\n",
      "Validate: 100%|██████████| 31/31 [00:05<00:00,  5.46it/s]\n"
     ]
    },
    {
     "name": "stdout",
     "output_type": "stream",
     "text": [
      "\n",
      "Epoch 3/20\n",
      "  [Train] Loss: 1.4200 | Acc: 0.3493 | F1: 0.3295\n",
      "  [Val]   Loss: 1.4160 | Acc: 0.3636 | F1: 0.3289\n",
      "  -> Validation loss did not improve. Counter: 1/5\n"
     ]
    },
    {
     "name": "stderr",
     "output_type": "stream",
     "text": [
      "Epoch 4 [Train]: 100%|██████████| 245/245 [01:17<00:00,  3.14it/s, loss=1.38]\n",
      "Validate: 100%|██████████| 31/31 [00:05<00:00,  5.67it/s]\n"
     ]
    },
    {
     "name": "stdout",
     "output_type": "stream",
     "text": [
      "\n",
      "Epoch 4/20\n",
      "  [Train] Loss: 1.3981 | Acc: 0.3639 | F1: 0.3445\n",
      "  [Val]   Loss: 1.3318 | Acc: 0.4331 | F1: 0.4025\n",
      "  -> Validation loss improved to 1.3318. Saving model state.\n",
      "  -> Best model checkpoint saved to 'best_audio_only_model.pth'\n"
     ]
    },
    {
     "name": "stderr",
     "output_type": "stream",
     "text": [
      "Epoch 5 [Train]: 100%|██████████| 245/245 [01:16<00:00,  3.20it/s, loss=1.25]\n",
      "Validate: 100%|██████████| 31/31 [00:05<00:00,  5.40it/s]\n"
     ]
    },
    {
     "name": "stdout",
     "output_type": "stream",
     "text": [
      "\n",
      "Epoch 5/20\n",
      "  [Train] Loss: 1.3885 | Acc: 0.3765 | F1: 0.3555\n",
      "  [Val]   Loss: 1.3371 | Acc: 0.4259 | F1: 0.4027\n",
      "  -> Validation loss did not improve. Counter: 1/5\n"
     ]
    },
    {
     "name": "stderr",
     "output_type": "stream",
     "text": [
      "Epoch 6 [Train]: 100%|██████████| 245/245 [01:17<00:00,  3.17it/s, loss=1.44]\n",
      "Validate: 100%|██████████| 31/31 [00:05<00:00,  5.69it/s]\n"
     ]
    },
    {
     "name": "stdout",
     "output_type": "stream",
     "text": [
      "\n",
      "Epoch 6/20\n",
      "  [Train] Loss: 1.3573 | Acc: 0.3937 | F1: 0.3752\n",
      "  [Val]   Loss: 1.3508 | Acc: 0.3953 | F1: 0.3537\n",
      "  -> Validation loss did not improve. Counter: 2/5\n"
     ]
    },
    {
     "name": "stderr",
     "output_type": "stream",
     "text": [
      "Epoch 7 [Train]: 100%|██████████| 245/245 [01:16<00:00,  3.21it/s, loss=1.11]\n",
      "Validate: 100%|██████████| 31/31 [00:05<00:00,  5.48it/s]\n"
     ]
    },
    {
     "name": "stdout",
     "output_type": "stream",
     "text": [
      "\n",
      "Epoch 7/20\n",
      "  [Train] Loss: 1.3637 | Acc: 0.3991 | F1: 0.3822\n",
      "  [Val]   Loss: 1.3376 | Acc: 0.4157 | F1: 0.3828\n",
      "  -> Validation loss did not improve. Counter: 3/5\n"
     ]
    },
    {
     "name": "stderr",
     "output_type": "stream",
     "text": [
      "Epoch 8 [Train]: 100%|██████████| 245/245 [01:18<00:00,  3.14it/s, loss=1.14]\n",
      "Validate: 100%|██████████| 31/31 [00:05<00:00,  5.44it/s]\n"
     ]
    },
    {
     "name": "stdout",
     "output_type": "stream",
     "text": [
      "\n",
      "Epoch 8/20\n",
      "  [Train] Loss: 1.3482 | Acc: 0.4019 | F1: 0.3906\n",
      "  [Val]   Loss: 1.2814 | Acc: 0.4709 | F1: 0.4312\n",
      "  -> Validation loss improved to 1.2814. Saving model state.\n",
      "  -> Best model checkpoint saved to 'best_audio_only_model.pth'\n"
     ]
    },
    {
     "name": "stderr",
     "output_type": "stream",
     "text": [
      "Epoch 9 [Train]: 100%|██████████| 245/245 [01:16<00:00,  3.20it/s, loss=1.37]\n",
      "Validate: 100%|██████████| 31/31 [00:05<00:00,  5.48it/s]\n"
     ]
    },
    {
     "name": "stdout",
     "output_type": "stream",
     "text": [
      "\n",
      "Epoch 9/20\n",
      "  [Train] Loss: 1.3455 | Acc: 0.4061 | F1: 0.3890\n",
      "  [Val]   Loss: 1.3914 | Acc: 0.3687 | F1: 0.3132\n",
      "  -> Validation loss did not improve. Counter: 1/5\n"
     ]
    },
    {
     "name": "stderr",
     "output_type": "stream",
     "text": [
      "Epoch 10 [Train]: 100%|██████████| 245/245 [01:16<00:00,  3.21it/s, loss=1.35]\n",
      "Validate: 100%|██████████| 31/31 [00:05<00:00,  5.20it/s]\n"
     ]
    },
    {
     "name": "stdout",
     "output_type": "stream",
     "text": [
      "\n",
      "Epoch 10/20\n",
      "  [Train] Loss: 1.3376 | Acc: 0.4154 | F1: 0.3997\n",
      "  [Val]   Loss: 1.2757 | Acc: 0.4709 | F1: 0.4535\n",
      "  -> Validation loss improved to 1.2757. Saving model state.\n",
      "  -> Best model checkpoint saved to 'best_audio_only_model.pth'\n"
     ]
    },
    {
     "name": "stderr",
     "output_type": "stream",
     "text": [
      "Epoch 11 [Train]: 100%|██████████| 245/245 [01:17<00:00,  3.17it/s, loss=1.47]\n",
      "Validate: 100%|██████████| 31/31 [00:05<00:00,  5.43it/s]\n"
     ]
    },
    {
     "name": "stdout",
     "output_type": "stream",
     "text": [
      "\n",
      "Epoch 11/20\n",
      "  [Train] Loss: 1.3207 | Acc: 0.4257 | F1: 0.4127\n",
      "  [Val]   Loss: 1.3347 | Acc: 0.4229 | F1: 0.3618\n",
      "  -> Validation loss did not improve. Counter: 1/5\n"
     ]
    },
    {
     "name": "stderr",
     "output_type": "stream",
     "text": [
      "Epoch 12 [Train]: 100%|██████████| 245/245 [01:17<00:00,  3.15it/s, loss=1.41]\n",
      "Validate: 100%|██████████| 31/31 [00:06<00:00,  5.13it/s]\n"
     ]
    },
    {
     "name": "stdout",
     "output_type": "stream",
     "text": [
      "\n",
      "Epoch 12/20\n",
      "  [Train] Loss: 1.3306 | Acc: 0.4180 | F1: 0.4050\n",
      "  [Val]   Loss: 1.2794 | Acc: 0.4505 | F1: 0.4229\n",
      "  -> Validation loss did not improve. Counter: 2/5\n"
     ]
    },
    {
     "name": "stderr",
     "output_type": "stream",
     "text": [
      "Epoch 13 [Train]: 100%|██████████| 245/245 [01:17<00:00,  3.18it/s, loss=1.28]\n",
      "Validate: 100%|██████████| 31/31 [00:06<00:00,  5.11it/s]\n"
     ]
    },
    {
     "name": "stdout",
     "output_type": "stream",
     "text": [
      "\n",
      "Epoch 13/20\n",
      "  [Train] Loss: 1.3129 | Acc: 0.4258 | F1: 0.4112\n",
      "  [Val]   Loss: 1.2929 | Acc: 0.4831 | F1: 0.4658\n",
      "  -> Validation loss did not improve. Counter: 3/5\n"
     ]
    },
    {
     "name": "stderr",
     "output_type": "stream",
     "text": [
      "Epoch 14 [Train]: 100%|██████████| 245/245 [01:17<00:00,  3.14it/s, loss=1.25]\n",
      "Validate: 100%|██████████| 31/31 [00:05<00:00,  5.28it/s]\n"
     ]
    },
    {
     "name": "stdout",
     "output_type": "stream",
     "text": [
      "\n",
      "Epoch 14/20\n",
      "  [Train] Loss: 1.3166 | Acc: 0.4194 | F1: 0.4052\n",
      "  [Val]   Loss: 1.2913 | Acc: 0.4341 | F1: 0.4136\n",
      "  -> Validation loss did not improve. Counter: 4/5\n"
     ]
    },
    {
     "name": "stderr",
     "output_type": "stream",
     "text": [
      "Epoch 15 [Train]: 100%|██████████| 245/245 [01:16<00:00,  3.22it/s, loss=1.33] \n",
      "Validate: 100%|██████████| 31/31 [00:05<00:00,  5.27it/s]\n"
     ]
    },
    {
     "name": "stdout",
     "output_type": "stream",
     "text": [
      "\n",
      "Epoch 15/20\n",
      "  [Train] Loss: 1.3090 | Acc: 0.4331 | F1: 0.4229\n",
      "  [Val]   Loss: 1.2444 | Acc: 0.4780 | F1: 0.4391\n",
      "  -> Validation loss improved to 1.2444. Saving model state.\n",
      "  -> Best model checkpoint saved to 'best_audio_only_model.pth'\n"
     ]
    },
    {
     "name": "stderr",
     "output_type": "stream",
     "text": [
      "Epoch 16 [Train]: 100%|██████████| 245/245 [01:16<00:00,  3.20it/s, loss=1.27]\n",
      "Validate: 100%|██████████| 31/31 [00:05<00:00,  5.26it/s]\n"
     ]
    },
    {
     "name": "stdout",
     "output_type": "stream",
     "text": [
      "\n",
      "Epoch 16/20\n",
      "  [Train] Loss: 1.3114 | Acc: 0.4268 | F1: 0.4138\n",
      "  [Val]   Loss: 1.2637 | Acc: 0.4576 | F1: 0.4421\n",
      "  -> Validation loss did not improve. Counter: 1/5\n"
     ]
    },
    {
     "name": "stderr",
     "output_type": "stream",
     "text": [
      "Epoch 17 [Train]: 100%|██████████| 245/245 [01:18<00:00,  3.13it/s, loss=1.35] \n",
      "Validate: 100%|██████████| 31/31 [00:06<00:00,  5.09it/s]\n"
     ]
    },
    {
     "name": "stdout",
     "output_type": "stream",
     "text": [
      "\n",
      "Epoch 17/20\n",
      "  [Train] Loss: 1.2996 | Acc: 0.4329 | F1: 0.4213\n",
      "  [Val]   Loss: 1.2767 | Acc: 0.4688 | F1: 0.4393\n",
      "  -> Validation loss did not improve. Counter: 2/5\n"
     ]
    },
    {
     "name": "stderr",
     "output_type": "stream",
     "text": [
      "Epoch 18 [Train]: 100%|██████████| 245/245 [01:17<00:00,  3.17it/s, loss=1.35] \n",
      "Validate: 100%|██████████| 31/31 [00:05<00:00,  5.32it/s]\n"
     ]
    },
    {
     "name": "stdout",
     "output_type": "stream",
     "text": [
      "\n",
      "Epoch 18/20\n",
      "  [Train] Loss: 1.3041 | Acc: 0.4357 | F1: 0.4216\n",
      "  [Val]   Loss: 1.2386 | Acc: 0.4842 | F1: 0.4645\n",
      "  -> Validation loss improved to 1.2386. Saving model state.\n",
      "  -> Best model checkpoint saved to 'best_audio_only_model.pth'\n"
     ]
    },
    {
     "name": "stderr",
     "output_type": "stream",
     "text": [
      "Epoch 19 [Train]: 100%|██████████| 245/245 [01:17<00:00,  3.17it/s, loss=1.62]\n",
      "Validate: 100%|██████████| 31/31 [00:05<00:00,  5.25it/s]\n"
     ]
    },
    {
     "name": "stdout",
     "output_type": "stream",
     "text": [
      "\n",
      "Epoch 19/20\n",
      "  [Train] Loss: 1.3024 | Acc: 0.4328 | F1: 0.4205\n",
      "  [Val]   Loss: 1.2681 | Acc: 0.4770 | F1: 0.4574\n",
      "  -> Validation loss did not improve. Counter: 1/5\n"
     ]
    },
    {
     "name": "stderr",
     "output_type": "stream",
     "text": [
      "Epoch 20 [Train]: 100%|██████████| 245/245 [01:18<00:00,  3.14it/s, loss=1.29]\n",
      "Validate: 100%|██████████| 31/31 [00:05<00:00,  5.19it/s]\n"
     ]
    },
    {
     "name": "stdout",
     "output_type": "stream",
     "text": [
      "\n",
      "Epoch 20/20\n",
      "  [Train] Loss: 1.2923 | Acc: 0.4281 | F1: 0.4164\n",
      "  [Val]   Loss: 1.2460 | Acc: 0.4545 | F1: 0.4291\n",
      "  -> Validation loss did not improve. Counter: 2/5\n",
      "\n",
      "Training finished.\n",
      "\n",
      "--- Evaluating Best AUDIO Model on Test Set ---\n",
      "Loading best model state from 'best_audio_only_model.pth'...\n",
      "Re-initializing model architecture for evaluation...\n",
      "AudioOnlyModel initialized (compatible version) with hidden_size=768, num_classes=5\n",
      "Best model loaded successfully from file.\n",
      "\n",
      "Running evaluation on the test set...\n"
     ]
    },
    {
     "name": "stderr",
     "output_type": "stream",
     "text": [
      "Test: 100%|██████████| 31/31 [00:05<00:00,  6.00it/s]"
     ]
    },
    {
     "name": "stdout",
     "output_type": "stream",
     "text": [
      "\n",
      "--- Test Set Results ---\n",
      "  Loss: 1.2644\n",
      "  Accuracy: 0.4633\n",
      "  Weighted F1-Score: 0.4430\n",
      "Test metrics logged and saved to audio_only_training_metrics.json\n",
      "\n",
      "==================== Finished Run for AUDIO Model ====================\n",
      "\n",
      "--- All Training Runs Complete ---\n"
     ]
    },
    {
     "name": "stderr",
     "output_type": "stream",
     "text": [
      "\n"
     ]
    }
   ],
   "source": [
    "# Free up memory from previous model training\n",
    "import torch\n",
    "import gc\n",
    "\n",
    "# Clear CUDA cache\n",
    "if torch.cuda.is_available():\n",
    "    torch.cuda.empty_cache()\n",
    "\n",
    "# Run garbage collection to free up memory\n",
    "gc.collect()\n",
    "\n",
    "print(\"Memory cleared from previous model training.\")\n",
    "\n",
    "\n",
    "# --- Define Configuration for the Run ---\n",
    "# Re-use most config, paths are handled inside the function based on model_type\n",
    "run_config_audio = {\n",
    "    'text_checkpoint': TEXT_CHECKPOINT,\n",
    "    'audio_checkpoint': AUDIO_CHECKPOINT,\n",
    "    'text_model_save_path': 'best_text_only_model.pth',\n",
    "    'text_metrics_save_path': 'text_only_training_metrics.json',\n",
    "    'audio_model_save_path': 'best_audio_only_model.pth',\n",
    "    'audio_metrics_save_path': 'audio_only_training_metrics.json',\n",
    "    'num_classes': NUM_CLASSES,\n",
    "    'freeze_base_model': FREEZE_BASE_MODEL,\n",
    "    'learning_rate': LEARNING_RATE,\n",
    "    'n_epochs': N_EPOCHS,\n",
    "    'patience': PATIENCE,\n",
    "}\n",
    "\n",
    "# --- Run Training for Audio Model ---\n",
    "try:\n",
    "     # Pass necessary variables: model type, device, config dict, data loaders dict\n",
    "    run_unimodal_training(\n",
    "        model_type='audio',\n",
    "        device=DEVICE,\n",
    "        config=run_config_audio,\n",
    "        data_loaders=data_loaders # data_loaders defined in Block 3\n",
    "    )\n",
    "except NameError as e:\n",
    "    print(f\"Error calling training function for AUDIO model: Required variable not defined ({e}). Check previous blocks.\")\n",
    "except Exception as e:\n",
    "    print(f\"An unexpected error occurred during AUDIO model training execution: {e}\")\n",
    "    traceback.print_exc()\n",
    "\n",
    "print(\"\\n--- All Training Runs Complete ---\")"
   ]
  },
  {
   "cell_type": "code",
   "execution_count": 26,
   "metadata": {},
   "outputs": [
    {
     "name": "stdout",
     "output_type": "stream",
     "text": [
      "Helper function 'get_predictions_and_labels' defined.\n"
     ]
    }
   ],
   "source": [
    "# Block: Helper function to get predictions and labels for Confusion Matrix\n",
    "\n",
    "import torch\n",
    "from tqdm import tqdm # Or tqdm.notebook\n",
    "\n",
    "@torch.no_grad() # Ensure gradients are not calculated\n",
    "def get_predictions_and_labels(model, loader, device):\n",
    "    \"\"\"\n",
    "    Runs inference on the data loader and returns true labels and predictions.\n",
    "\n",
    "    Args:\n",
    "        model (nn.Module): The trained model (already on the correct device).\n",
    "        loader (DataLoader): The DataLoader for the test set.\n",
    "        device (str or torch.device): The device to run inference on.\n",
    "\n",
    "    Returns:\n",
    "        tuple: (list of true labels, list of predicted labels)\n",
    "    \"\"\"\n",
    "    model.eval() # Set model to evaluation mode\n",
    "    all_preds = []\n",
    "    all_labels = []\n",
    "    print(f\"Getting predictions for confusion matrix using device: {device}\")\n",
    "    loop = tqdm(loader, desc=\"Predicting\", leave=False)\n",
    "\n",
    "    for batch in loop:\n",
    "        # Ensure batch structure is correct and move data\n",
    "        if 'text_inputs' not in batch or 'audio_inputs' not in batch or 'labels' not in batch:\n",
    "             print(f\"Warning: Skipping batch due to missing keys. Found: {batch.keys()}\")\n",
    "             continue\n",
    "\n",
    "        try:\n",
    "            # Move data to device (similar to Trainer.step, but without loss calc)\n",
    "            text_inputs = {\n",
    "                k: (v.to(device).bool() if k == 'attention_mask' else v.to(device))\n",
    "                for k, v in batch['text_inputs'].items() if isinstance(v, torch.Tensor)\n",
    "            }\n",
    "            audio_inputs = {\n",
    "                k: v.to(device)\n",
    "                for k, v in batch['audio_inputs'].items() if isinstance(v, torch.Tensor)\n",
    "            }\n",
    "            labels = batch['labels'].to(device)\n",
    "\n",
    "            # Get model logits using the compatible forward pass\n",
    "            logits = model(text_inputs, audio_inputs)\n",
    "            preds = torch.argmax(logits, dim=-1)\n",
    "\n",
    "            all_preds.extend(preds.cpu().tolist())\n",
    "            all_labels.extend(labels.cpu().tolist())\n",
    "\n",
    "        except Exception as e:\n",
    "            print(f\"\\nError during prediction step: {e}\")\n",
    "            print(f\"Problematic batch keys: {batch.keys()}\")\n",
    "            # Decide whether to skip or stop\n",
    "            continue # Skip batch on error\n",
    "\n",
    "    print(f\"Finished predicting. Got {len(all_labels)} labels and {len(all_preds)} predictions.\")\n",
    "    if len(all_labels) != len(all_preds):\n",
    "        print(\"Warning: Mismatch between number of labels and predictions collected.\")\n",
    "\n",
    "    return all_labels, all_preds\n",
    "\n",
    "print(\"Helper function 'get_predictions_and_labels' defined.\")"
   ]
  },
  {
   "cell_type": "code",
   "execution_count": 28,
   "metadata": {},
   "outputs": [
    {
     "name": "stderr",
     "output_type": "stream",
     "text": [
      "Some weights of RobertaModel were not initialized from the model checkpoint at roberta-base and are newly initialized: ['pooler.dense.bias', 'pooler.dense.weight']\n",
      "You should probably TRAIN this model on a down-stream task to be able to use it for predictions and inference.\n"
     ]
    },
    {
     "name": "stdout",
     "output_type": "stream",
     "text": [
      "\n",
      "--- Generating Final Confusion Matrices for Saved Models ---\n",
      "\n",
      "--- Processing Text Model ---\n",
      "Loading model state from 'best_text_only_model.pth'...\n",
      "Re-initializing model architecture for evaluation...\n",
      "  Using config - Num Classes: 5, Base: roberta-base\n",
      "TextOnlyModel initialized (compatible version) with hidden_size=768, num_classes=5\n",
      "Model loaded successfully from file.\n",
      "\n",
      "Generating Confusion Matrix for Text Model...\n",
      "Getting predictions for confusion matrix using device: cuda\n"
     ]
    },
    {
     "name": "stderr",
     "output_type": "stream",
     "text": [
      "                                                           \r"
     ]
    },
    {
     "name": "stdout",
     "output_type": "stream",
     "text": [
      "Finished predicting. Got 980 labels and 980 predictions.\n",
      "\n",
      "Classification Report:\n",
      "              precision    recall  f1-score   support\n",
      "\n",
      "       angry     0.4583    0.1009    0.1654       109\n",
      "  frustrated     0.3951    0.7427    0.5158       307\n",
      "       happy     0.5304    0.6171    0.5704       269\n",
      "         sad     0.5333    0.1176    0.1928       136\n",
      "     neutral     0.5833    0.1321    0.2154       159\n",
      "\n",
      "    accuracy                         0.4510       980\n",
      "   macro avg     0.5001    0.3421    0.3320       980\n",
      "weighted avg     0.4890    0.4510    0.3983       980\n",
      "\n",
      "Confusion matrix saved to final_confusion_matrix_text.png\n"
     ]
    },
    {
     "data": {
      "image/png": "[encoded data removed]",
      "text/plain": [
       "<Figure size 800x600 with 2 Axes>"
      ]
     },
     "metadata": {},
     "output_type": "display_data"
    },
    {
     "name": "stdout",
     "output_type": "stream",
     "text": [
      "\n",
      "--- Processing Audio Model ---\n",
      "Loading model state from 'best_audio_only_model.pth'...\n",
      "Re-initializing model architecture for evaluation...\n",
      "  Using config - Num Classes: 5, Base: facebook/hubert-base-ls960\n",
      "AudioOnlyModel initialized (compatible version) with hidden_size=768, num_classes=5\n",
      "Model loaded successfully from file.\n",
      "\n",
      "Generating Confusion Matrix for Audio Model...\n",
      "Getting predictions for confusion matrix using device: cuda\n"
     ]
    },
    {
     "name": "stderr",
     "output_type": "stream",
     "text": [
      "                                                           \r"
     ]
    },
    {
     "name": "stdout",
     "output_type": "stream",
     "text": [
      "Finished predicting. Got 980 labels and 980 predictions.\n",
      "\n",
      "Classification Report:\n",
      "              precision    recall  f1-score   support\n",
      "\n",
      "       angry     0.4865    0.1651    0.2466       109\n",
      "  frustrated     0.4450    0.5537    0.4935       307\n",
      "       happy     0.5351    0.5390    0.5370       269\n",
      "         sad     0.4236    0.6324    0.5074       136\n",
      "     neutral     0.3333    0.1824    0.2358       159\n",
      "\n",
      "    accuracy                         0.4571       980\n",
      "   macro avg     0.4447    0.4145    0.4040       980\n",
      "weighted avg     0.4533    0.4571    0.4381       980\n",
      "\n",
      "Confusion matrix saved to final_confusion_matrix_audio.png\n"
     ]
    },
    {
     "data": {
      "image/png": "[encoded data removed]",
      "text/plain": [
       "<Figure size 800x600 with 2 Axes>"
      ]
     },
     "metadata": {},
     "output_type": "display_data"
    },
    {
     "name": "stdout",
     "output_type": "stream",
     "text": [
      "\n",
      "--- Confusion Matrix Generation Complete ---\n"
     ]
    }
   ],
   "source": [
    "# Block 7: Final Confusion Matrix Generation (Run After Training)\n",
    "\n",
    "import torch\n",
    "from transformers import AutoModel\n",
    "import matplotlib.pyplot as plt\n",
    "import seaborn as sns\n",
    "from sklearn.metrics import confusion_matrix, classification_report\n",
    "import pandas as pd\n",
    "import os\n",
    "import traceback\n",
    "\n",
    "print(\"\\n--- Generating Final Confusion Matrices for Saved Models ---\")\n",
    "\n",
    "# --- Configuration & Variables Needed (Assumed from previous blocks) ---\n",
    "# DEVICE, TEXT_CHECKPOINT, AUDIO_CHECKPOINT, NUM_CLASSES, EMOTION_LABELS\n",
    "# test_loader\n",
    "# TextOnlyModel, AudioOnlyModel classes\n",
    "# get_predictions_and_labels function\n",
    "\n",
    "model_configs = {\n",
    "    'text': {\n",
    "        'model_class': TextOnlyModel,\n",
    "        'checkpoint_path': 'best_text_only_model.pth',\n",
    "        'base_checkpoint_fallback': TEXT_CHECKPOINT,\n",
    "        'title': 'Text Model'\n",
    "    },\n",
    "    'audio': {\n",
    "        'model_class': AudioOnlyModel,\n",
    "        'checkpoint_path': 'best_audio_only_model.pth',\n",
    "        'base_checkpoint_fallback': AUDIO_CHECKPOINT,\n",
    "        'title': 'Audio Model'\n",
    "    }\n",
    "}\n",
    "\n",
    "# --- Loop through each model type ---\n",
    "for model_type, config in model_configs.items():\n",
    "    print(f\"\\n--- Processing {config['title']} ---\")\n",
    "    model_path = config['checkpoint_path']\n",
    "    ModelClass = config['model_class']\n",
    "    loaded_eval_model = None # Reset for each model type\n",
    "\n",
    "    if not os.path.exists(model_path):\n",
    "        print(f\"Error: Model checkpoint '{model_path}' not found. Cannot generate confusion matrix.\")\n",
    "        continue # Skip to the next model type\n",
    "\n",
    "    print(f\"Loading model state from '{model_path}'...\")\n",
    "    try:\n",
    "        checkpoint = torch.load(model_path, map_location=DEVICE)\n",
    "        print(\"Re-initializing model architecture for evaluation...\")\n",
    "\n",
    "        # Load config from checkpoint if available, otherwise use current script's config\n",
    "        eval_config = checkpoint.get('config', {})\n",
    "        eval_num_classes = eval_config.get('num_classes', NUM_CLASSES)\n",
    "        eval_base_checkpoint = eval_config.get('base_checkpoint', config['base_checkpoint_fallback'])\n",
    "        # Use labels from checkpoint if saved, otherwise use current script's labels\n",
    "        eval_emotion_labels = eval_config.get('emotion_labels', EMOTION_LABELS)\n",
    "\n",
    "        eval_base_model = AutoModel.from_pretrained(eval_base_checkpoint)\n",
    "        eval_hidden_size = eval_config.get('hidden_size', eval_base_model.config.hidden_size)\n",
    "\n",
    "        print(f\"  Using config - Num Classes: {eval_num_classes}, Base: {eval_base_checkpoint}\")\n",
    "\n",
    "        # Instantiate the correct model class\n",
    "        if model_type == 'text':\n",
    "             loaded_eval_model = ModelClass(roberta=eval_base_model, num_classes=eval_num_classes, hidden_size=eval_hidden_size)\n",
    "        elif model_type == 'audio':\n",
    "             loaded_eval_model = ModelClass(hubert=eval_base_model, num_classes=eval_num_classes, hidden_size=eval_hidden_size)\n",
    "\n",
    "        loaded_eval_model.load_state_dict(checkpoint['model_state_dict'])\n",
    "        loaded_eval_model.to(DEVICE)\n",
    "        loaded_eval_model.eval() # Set to evaluation mode\n",
    "        print(\"Model loaded successfully from file.\")\n",
    "\n",
    "    except FileNotFoundError:\n",
    "        print(f\"Error: Checkpoint file not found at {model_path}.\")\n",
    "        continue # Skip to next model\n",
    "    except NameError as e:\n",
    "         print(f\"Error loading model: Required class {ModelClass.__name__} not found ({e}). Make sure it's defined.\")\n",
    "         continue\n",
    "    except Exception as e_load:\n",
    "        print(f\"An error occurred loading the model from file: {e_load}\")\n",
    "        traceback.print_exc()\n",
    "        continue # Skip to next model\n",
    "\n",
    "    # --- Generate Predictions and Confusion Matrix ---\n",
    "    if loaded_eval_model is not None:\n",
    "        print(f\"\\nGenerating Confusion Matrix for {config['title']}...\")\n",
    "        try:\n",
    "            # Use the helper function (must be defined in the environment)\n",
    "            true_labels, pred_labels = get_predictions_and_labels(\n",
    "                model=loaded_eval_model,\n",
    "                loader=test_loader, # Assumes test_loader is available\n",
    "                device=DEVICE\n",
    "            )\n",
    "\n",
    "            if not true_labels or not pred_labels:\n",
    "                 print(\"Could not generate confusion matrix because no predictions were collected.\")\n",
    "            else:\n",
    "                # Use the emotion labels determined during loading\n",
    "                current_emotion_labels = eval_emotion_labels\n",
    "\n",
    "                print(\"\\nClassification Report:\")\n",
    "                print(classification_report(true_labels, pred_labels, target_names=current_emotion_labels, digits=4, zero_division=0))\n",
    "\n",
    "                cm = confusion_matrix(true_labels, pred_labels, labels=range(len(current_emotion_labels))) # Ensure order matches labels\n",
    "                cm_df = pd.DataFrame(cm, index=current_emotion_labels, columns=current_emotion_labels)\n",
    "\n",
    "                plt.figure(figsize=(8, 6))\n",
    "                sns.heatmap(cm_df, annot=True, fmt='d', cmap='Blues')\n",
    "                plt.title(f'Confusion Matrix - {config[\"title\"]}')\n",
    "                plt.ylabel('Actual Label')\n",
    "                plt.xlabel('Predicted Label')\n",
    "\n",
    "                # Save the plot\n",
    "                cm_filename = f\"final_confusion_matrix_{model_type}.png\"\n",
    "                try:\n",
    "                    plt.savefig(cm_filename)\n",
    "                    print(f\"Confusion matrix saved to {cm_filename}\")\n",
    "                except Exception as e_save_fig:\n",
    "                    print(f\"Error saving confusion matrix plot: {e_save_fig}\")\n",
    "                plt.show() # Display the plot\n",
    "\n",
    "        except NameError as e_cm:\n",
    "             print(f\"Error generating confusion matrix: Required function 'get_predictions_and_labels' not found ({e_cm}).\")\n",
    "        except Exception as e_cm_other:\n",
    "            print(f\"An error occurred during confusion matrix generation: {e_cm_other}\")\n",
    "            traceback.print_exc()\n",
    "    else:\n",
    "        print(f\"Skipping confusion matrix for {config['title']} as model failed to load.\")\n",
    "\n",
    "print(\"\\n--- Confusion Matrix Generation Complete ---\")"
   ]
  }
 ],
 "metadata": {
  "kernelspec": {
   "display_name": "Python 3",
   "language": "python",
   "name": "python3"
  },
  "language_info": {
   "codemirror_mode": {
    "name": "ipython",
    "version": 3
   },
   "file_extension": ".py",
   "mimetype": "text/x-python",
   "name": "python",
   "nbconvert_exporter": "python",
   "pygments_lexer": "ipython3",
   "version": "3.12.2"
  }
 },
 "nbformat": 4,
 "nbformat_minor": 2
}
